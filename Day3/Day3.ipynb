{
 "cells": [
  {
   "cell_type": "code",
   "execution_count": 1,
   "id": "8a2b9b72-2fd3-49b9-86a1-0da655675b12",
   "metadata": {},
   "outputs": [
    {
     "name": "stdout",
     "output_type": "stream",
     "text": [
      "7872\n"
     ]
    }
   ],
   "source": [
    "def get_priority(char):\n",
    "    # function to get the priority of a character\n",
    "    if 'a' <= char <= 'z':\n",
    "        return ord(char) - ord('a') + 1\n",
    "    else:\n",
    "        return ord(char) - ord('A') + 27\n",
    "\n",
    "def rucksack_priority(rucksacks):\n",
    "    priority_sum = 0\n",
    "    for rucksack in rucksacks:\n",
    "        half = len(rucksack) // 2\n",
    "        compartment1, compartment2 = set(rucksack[:half]), set(rucksack[half:])\n",
    "        shared_item = compartment1 & compartment2\n",
    "        priority_sum += sum(get_priority(item) for item in shared_item)\n",
    "    return priority_sum\n",
    "\n",
    "# Read rucksack data from file\n",
    "with open('Day3.txt', 'r') as file:\n",
    "    rucksacks = [line.strip() for line in file]\n",
    "\n",
    "print(rucksack_priority(rucksacks))\n"
   ]
  },
  {
   "cell_type": "code",
   "execution_count": null,
   "id": "b5706ba7-a5b8-47b0-abc5-de19172e3f2f",
   "metadata": {},
   "outputs": [],
   "source": []
  }
 ],
 "metadata": {
  "kernelspec": {
   "display_name": "Python 3 (ipykernel)",
   "language": "python",
   "name": "python3"
  },
  "language_info": {
   "codemirror_mode": {
    "name": "ipython",
    "version": 3
   },
   "file_extension": ".py",
   "mimetype": "text/x-python",
   "name": "python",
   "nbconvert_exporter": "python",
   "pygments_lexer": "ipython3",
   "version": "3.10.9"
  }
 },
 "nbformat": 4,
 "nbformat_minor": 5
}
