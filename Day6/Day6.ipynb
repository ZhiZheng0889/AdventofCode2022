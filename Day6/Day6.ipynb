{
 "cells": [
  {
   "cell_type": "code",
   "execution_count": 1,
   "id": "f8397f13-1bda-4e75-abd0-a40e4baf712d",
   "metadata": {},
   "outputs": [],
   "source": [
    "def find_marker(filename):\n",
    "    # Open the file\n",
    "    with open(filename, 'r') as file:\n",
    "        # Initialize position counter\n",
    "        position = 0\n",
    "\n",
    "        # Read each line in the file\n",
    "        for line in file:\n",
    "            # Remove any trailing newline characters\n",
    "            buffer = line.strip()\n",
    "\n",
    "            # Iterate over buffer characters\n",
    "            for i in range(3, len(buffer)):\n",
    "                # Get the most recent four characters\n",
    "                recent_chars = buffer[i-3:i+1]\n",
    "\n",
    "                # Check if all characters are different\n",
    "                if len(set(recent_chars)) == 4:\n",
    "                    # The marker has been found\n",
    "                    position = i + 1\n",
    "                    break\n",
    "\n",
    "            # Only process the first datastream in the file\n",
    "            break\n",
    "\n",
    "    # Return the position of the marker\n",
    "    return position\n"
   ]
  },
  {
   "cell_type": "code",
   "execution_count": 2,
   "id": "bd324440-8b05-4faf-a0f5-ea8dcfc0a776",
   "metadata": {},
   "outputs": [
    {
     "name": "stdout",
     "output_type": "stream",
     "text": [
      "1953\n"
     ]
    }
   ],
   "source": [
    "filename = \"Day6.txt\"\n",
    "print(find_marker(filename))\n"
   ]
  },
  {
   "cell_type": "code",
   "execution_count": 3,
   "id": "dc03a87b-a543-4928-ba73-82d278552ce7",
   "metadata": {},
   "outputs": [],
   "source": [
    "def find_marker(filename, marker_length):\n",
    "    with open(filename, 'r') as file:\n",
    "        position = 0\n",
    "        for line in file:\n",
    "            buffer = line.strip()\n",
    "            for i in range(marker_length - 1, len(buffer)):\n",
    "                recent_chars = buffer[i-marker_length+1:i+1]\n",
    "                if len(set(recent_chars)) == marker_length:\n",
    "                    position = i + 1\n",
    "                    break\n",
    "            break\n",
    "    return position\n"
   ]
  },
  {
   "cell_type": "code",
   "execution_count": 4,
   "id": "d3014577-d1aa-4dc1-9b41-15584e62cc5c",
   "metadata": {},
   "outputs": [
    {
     "name": "stdout",
     "output_type": "stream",
     "text": [
      "2301\n"
     ]
    }
   ],
   "source": [
    "filename = \"Day6.txt\"\n",
    "print(find_marker(filename, 14))  # Replace 14 with the length of your marker\n"
   ]
  },
  {
   "cell_type": "code",
   "execution_count": null,
   "id": "0fc87af5-ee40-4546-9001-ab6e37fbcec9",
   "metadata": {},
   "outputs": [],
   "source": []
  }
 ],
 "metadata": {
  "kernelspec": {
   "display_name": "Python 3 (ipykernel)",
   "language": "python",
   "name": "python3"
  },
  "language_info": {
   "codemirror_mode": {
    "name": "ipython",
    "version": 3
   },
   "file_extension": ".py",
   "mimetype": "text/x-python",
   "name": "python",
   "nbconvert_exporter": "python",
   "pygments_lexer": "ipython3",
   "version": "3.10.9"
  }
 },
 "nbformat": 4,
 "nbformat_minor": 5
}
