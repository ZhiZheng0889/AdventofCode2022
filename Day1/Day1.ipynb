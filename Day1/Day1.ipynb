{
 "cells": [
  {
   "cell_type": "code",
   "execution_count": 7,
   "id": "391c4981-896f-44c3-a7fc-acf3a39e2f15",
   "metadata": {},
   "outputs": [],
   "source": [
    "#Part 1",
    "def max_calories_from_file(file_path):\n",
    "    # Open the file and read the content\n",
    "    with open(file_path, 'r') as file:\n",
    "        input_string = file.read()\n",
    "\n",
    "    # Split the input string by blank lines\n",
    "    lines = input_string.strip().split(\"\\n\\n\")\n",
    "\n",
    "    # Initialize maximum calories\n",
    "    max_calories = 0\n",
    "\n",
    "    # For each elf, sum the calories and find the max\n",
    "    for line in lines:\n",
    "        calories = sum(int(i) for i in line.split(\"\\n\"))\n",
    "        if calories > max_calories:\n",
    "            max_calories = calories\n",
    "\n",
    "    return max_calories\n"
   ]
  },
  {
   "cell_type": "code",
   "execution_count": 8,
   "id": "9df1e8b1-dad4-4f1f-9a71-40aeb67461fe",
   "metadata": {},
   "outputs": [
    {
     "name": "stdout",
     "output_type": "stream",
     "text": [
      "69693\n"
     ]
    }
   ],
   "source": [
    "print(max_calories_from_file('Day1P1.txt'))  # Replace 'path_to_your_file.txt' with the path to your file\n"
   ]
  },
  {
   "cell_type": "code",
   "execution_count": 5,
   "id": "300a1e16-0da5-4872-a3da-3d913135b37b",
   "metadata": {},
   "outputs": [],
   "source": [
    "#Part 2",
    "def top_3_calories(filename):\n",
    "    # Open the file and read the lines\n",
    "    with open(filename, 'r') as file:\n",
    "        input_string = file.read()\n",
    "\n",
    "    # Split the input string by blank lines\n",
    "    lines = input_string.strip().split(\"\\n\\n\")\n",
    "\n",
    "    # Initialize a list of top 3 calories, initially all zeros\n",
    "    top_3 = [0, 0, 0]\n",
    "\n",
    "    # For each elf, sum the calories and update the top 3 list if necessary\n",
    "    for line in lines:\n",
    "        calories = sum(int(i) for i in line.split(\"\\n\"))\n",
    "        if calories > min(top_3):\n",
    "            # Remove the smallest value in the list and add the new value\n",
    "            top_3.remove(min(top_3))\n",
    "            top_3.append(calories)\n",
    "\n",
    "    # Return the sum of the top 3 calories\n",
    "    return sum(top_3)"
   ]
  },
  {
   "cell_type": "code",
   "execution_count": 6,
   "id": "d46d8acd-b89d-4fd3-b580-56ece8eeeae7",
   "metadata": {},
   "outputs": [
    {
     "name": "stdout",
     "output_type": "stream",
     "text": [
      "200945\n"
     ]
    }
   ],
   "source": [
    "filename = \"Day1P2.txt\"  # Replace with the path to your file\n",
    "print(top_3_calories(filename))  # This should output the total calories carried by the top three elves\n",
    "\n"
   ]
  },
  {
   "cell_type": "code",
   "execution_count": null,
   "id": "d50b4aa2-d4eb-4f50-ba29-f7489800aba3",
   "metadata": {},
   "outputs": [],
   "source": []
  }
 ],
 "metadata": {
  "kernelspec": {
   "display_name": "Python 3 (ipykernel)",
   "language": "python",
   "name": "python3"
  },
  "language_info": {
   "codemirror_mode": {
    "name": "ipython",
    "version": 3
   },
   "file_extension": ".py",
   "mimetype": "text/x-python",
   "name": "python",
   "nbconvert_exporter": "python",
   "pygments_lexer": "ipython3",
   "version": "3.10.9"
  }
 },
 "nbformat": 4,
 "nbformat_minor": 5
}
