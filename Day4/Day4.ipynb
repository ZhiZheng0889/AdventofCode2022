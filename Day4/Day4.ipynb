{
 "cells": [
  {
   "cell_type": "code",
   "execution_count": 1,
   "id": "7db5b6a6-b940-4a47-9ec1-a91b53c0c9cc",
   "metadata": {},
   "outputs": [
    {
     "name": "stdout",
     "output_type": "stream",
     "text": [
      "560\n"
     ]
    }
   ],
   "source": [
    "def parse_ranges(range_str):\n",
    "    \"\"\"\n",
    "    Parse a string of the form 'a-b' into a tuple of integers.\n",
    "    \"\"\"\n",
    "    return tuple(map(int, range_str.split('-')))\n",
    "\n",
    "def is_contained(range1, range2):\n",
    "    \"\"\"\n",
    "    Check if range1 is fully contained in range2, or vice versa.\n",
    "    \"\"\"\n",
    "    return (range1[0] >= range2[0] and range1[1] <= range2[1]) or (range2[0] >= range1[0] and range2[1] <= range1[1])\n",
    "\n",
    "def count_contained_pairs(file_path):\n",
    "    \"\"\"\n",
    "    Count the number of pairs in which one range is fully contained in the other.\n",
    "    \"\"\"\n",
    "    count = 0\n",
    "    with open(file_path, 'r') as f:\n",
    "        for line in f:\n",
    "            ranges = line.strip().split(',')\n",
    "            range1 = parse_ranges(ranges[0])\n",
    "            range2 = parse_ranges(ranges[1])\n",
    "            if is_contained(range1, range2):\n",
    "                count += 1\n",
    "    return count\n",
    "\n",
    "# Example usage:\n",
    "print(count_contained_pairs(\"Day4.txt\"))\n"
   ]
  },
  {
   "cell_type": "code",
   "execution_count": null,
   "id": "303384b0-1aa8-40e7-9cf2-a9140c94830b",
   "metadata": {},
   "outputs": [],
   "source": []
  }
 ],
 "metadata": {
  "kernelspec": {
   "display_name": "Python 3 (ipykernel)",
   "language": "python",
   "name": "python3"
  },
  "language_info": {
   "codemirror_mode": {
    "name": "ipython",
    "version": 3
   },
   "file_extension": ".py",
   "mimetype": "text/x-python",
   "name": "python",
   "nbconvert_exporter": "python",
   "pygments_lexer": "ipython3",
   "version": "3.10.9"
  }
 },
 "nbformat": 4,
 "nbformat_minor": 5
}
