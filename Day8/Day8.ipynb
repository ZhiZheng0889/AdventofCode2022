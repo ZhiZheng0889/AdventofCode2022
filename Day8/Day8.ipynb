{
 "cells": [
  {
   "cell_type": "code",
   "execution_count": 3,
   "id": "d2e0379d-9f79-454c-92a4-3b1433b14dfb",
   "metadata": {},
   "outputs": [
    {
     "name": "stdout",
     "output_type": "stream",
     "text": [
      "1700\n"
     ]
    }
   ],
   "source": [
    "def visible_from_direction(trees, i, j, di, dj):\n",
    "    \"\"\"\n",
    "    Check if the tree at position i, j is visible from the direction specified by di, dj\n",
    "    \"\"\"\n",
    "    height = trees[i][j]\n",
    "    while 0 <= i < len(trees) and 0 <= j < len(trees):\n",
    "        i += di\n",
    "        j += dj\n",
    "        if 0 <= i < len(trees) and 0 <= j < len(trees) and trees[i][j] >= height:\n",
    "            return False\n",
    "    return True\n",
    "\n",
    "def count_visible_trees(trees):\n",
    "    visible_trees = 0\n",
    "    n = len(trees)\n",
    "    \n",
    "    for i in range(n):\n",
    "        for j in range(n):\n",
    "            if (\n",
    "                visible_from_direction(trees, i, j, -1, 0) or  # up\n",
    "                visible_from_direction(trees, i, j, 1, 0) or  # down\n",
    "                visible_from_direction(trees, i, j, 0, -1) or  # left\n",
    "                visible_from_direction(trees, i, j, 0, 1)  # right\n",
    "            ):\n",
    "                visible_trees += 1\n",
    "\n",
    "    return visible_trees\n",
    "\n",
    "def main():\n",
    "    with open(\"Day8.txt\") as f:\n",
    "        trees = [[int(j) for j in list(i.strip())] for i in f.readlines()]\n",
    "\n",
    "    print(count_visible_trees(trees))\n",
    "\n",
    "if __name__ == \"__main__\":\n",
    "    main()\n"
   ]
  },
  {
   "cell_type": "code",
   "execution_count": 7,
   "id": "64b144c7-eddc-4aea-8df0-042bd6f759f9",
   "metadata": {},
   "outputs": [
    {
     "name": "stdout",
     "output_type": "stream",
     "text": [
      "470596\n"
     ]
    }
   ],
   "source": [
    "def scenic_score(trees, i, j):\n",
    "    \"\"\"\n",
    "    Calculate the scenic score for the tree at position i, j\n",
    "    \"\"\"\n",
    "    def visible_trees_in_direction(di, dj):\n",
    "        height = trees[i][j]\n",
    "        visible_trees = 0\n",
    "        i_pos, j_pos = i + di, j + dj\n",
    "        while 0 <= i_pos < len(trees) and 0 <= j_pos < len(trees[0]):\n",
    "            visible_trees += 1\n",
    "            if trees[i_pos][j_pos] >= height:\n",
    "                break\n",
    "            i_pos += di\n",
    "            j_pos += dj\n",
    "        return visible_trees\n",
    "\n",
    "    return (\n",
    "        visible_trees_in_direction(-1, 0) *  # up\n",
    "        visible_trees_in_direction(1, 0) *  # down\n",
    "        visible_trees_in_direction(0, -1) *  # left\n",
    "        visible_trees_in_direction(0, 1)  # right\n",
    "    )\n",
    "\n",
    "def main():\n",
    "    with open(\"Day8.txt\") as f:\n",
    "        trees = [[int(j) for j in list(i.strip())] for i in f.readlines()]\n",
    "\n",
    "    max_scenic_score = max(scenic_score(trees, i, j) for i in range(len(trees)) for j in range(len(trees[0])))\n",
    "\n",
    "    print(max_scenic_score)\n",
    "\n",
    "if __name__ == \"__main__\":\n",
    "    main()\n"
   ]
  },
  {
   "cell_type": "code",
   "execution_count": null,
   "id": "15398038-d982-40dc-bd96-7af785403d6b",
   "metadata": {},
   "outputs": [],
   "source": []
  }
 ],
 "metadata": {
  "kernelspec": {
   "display_name": "Python 3 (ipykernel)",
   "language": "python",
   "name": "python3"
  },
  "language_info": {
   "codemirror_mode": {
    "name": "ipython",
    "version": 3
   },
   "file_extension": ".py",
   "mimetype": "text/x-python",
   "name": "python",
   "nbconvert_exporter": "python",
   "pygments_lexer": "ipython3",
   "version": "3.10.9"
  }
 },
 "nbformat": 4,
 "nbformat_minor": 5
}
