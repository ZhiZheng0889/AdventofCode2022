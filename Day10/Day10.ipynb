{
 "cells": [
  {
   "cell_type": "code",
   "execution_count": 3,
   "id": "0ed1761f-012a-48ff-8a75-c96d3450e0ae",
   "metadata": {},
   "outputs": [
    {
     "name": "stdout",
     "output_type": "stream",
     "text": [
      "11720\n"
     ]
    }
   ],
   "source": [
    "def run_operations(input_file: str):\n",
    "    with open(input_file, \"r\", encoding=\"utf-8\") as puzzle_input:\n",
    "        instructions = puzzle_input.read()\n",
    "\n",
    "    x = 1\n",
    "    for line in instructions.splitlines():\n",
    "        yield x\n",
    "        if line != \"noop\":\n",
    "            yield x\n",
    "            x += int(line[5:])\n",
    "\n",
    "\n",
    "def part_1(input_file: str, width: int):\n",
    "    interesting_signal_strength = []\n",
    "    for cycle, x in enumerate(run_operations(input_file), 1):\n",
    "        if cycle % width == 20:\n",
    "            interesting_signal_strength.append(cycle * x)\n",
    "    return sum(interesting_signal_strength)\n",
    "\n",
    "\n",
    "if __name__ == \"__main__\":\n",
    "    part_1_ans = part_1(input_file=\"Day10.txt\", width=40)\n",
    "    print(part_1_ans)\n"
   ]
  },
  {
   "cell_type": "code",
   "execution_count": 4,
   "id": "714d0325-afe3-4da2-a462-3b4eaec3a1c4",
   "metadata": {},
   "outputs": [
    {
     "name": "stdout",
     "output_type": "stream",
     "text": [
      "####.###...##..###..####.###...##....##.\n",
      "#....#..#.#..#.#..#.#....#..#.#..#....#.\n",
      "###..#..#.#....#..#.###..#..#.#.......#.\n",
      "#....###..#....###..#....###..#.......#.\n",
      "#....#.#..#..#.#.#..#....#....#..#.#..#.\n",
      "####.#..#..##..#..#.####.#.....##...##..\n"
     ]
    }
   ],
   "source": [
    "def run_operations(input_file: str):\n",
    "    with open(input_file, \"r\", encoding=\"utf-8\") as puzzle_input:\n",
    "        instructions = puzzle_input.read()\n",
    "\n",
    "    x = 1\n",
    "    for line in instructions.splitlines():\n",
    "        yield x\n",
    "        if line != \"noop\":\n",
    "            yield x\n",
    "            x += int(line[5:])\n",
    "\n",
    "\n",
    "def part_2(input_file: str, width: int):\n",
    "    rows = []\n",
    "    row_string = \"\"\n",
    "    for cycle, x in enumerate(run_operations(input_file)):\n",
    "        row_string += \".#\"[abs(cycle % width - x) < 2]\n",
    "        if (cycle + 1) % width == 0:\n",
    "            rows.append(row_string)\n",
    "            row_string = \"\"\n",
    "\n",
    "    for row in rows:\n",
    "        print(row)\n",
    "\n",
    "\n",
    "if __name__ == \"__main__\":\n",
    "    part_2(input_file=\"Day10.txt\", width=40)\n"
   ]
  },
  {
   "cell_type": "code",
   "execution_count": null,
   "id": "80ea47da-4e77-46dc-9e82-32c7fcb2440c",
   "metadata": {},
   "outputs": [],
   "source": []
  }
 ],
 "metadata": {
  "kernelspec": {
   "display_name": "Python 3 (ipykernel)",
   "language": "python",
   "name": "python3"
  },
  "language_info": {
   "codemirror_mode": {
    "name": "ipython",
    "version": 3
   },
   "file_extension": ".py",
   "mimetype": "text/x-python",
   "name": "python",
   "nbconvert_exporter": "python",
   "pygments_lexer": "ipython3",
   "version": "3.10.9"
  }
 },
 "nbformat": 4,
 "nbformat_minor": 5
}
