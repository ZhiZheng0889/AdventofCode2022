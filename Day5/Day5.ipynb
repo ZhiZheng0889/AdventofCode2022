{
 "cells": [
  {
   "cell_type": "code",
   "execution_count": 22,
   "id": "3fcc603f-935e-4027-b010-20ce0b04c004",
   "metadata": {},
   "outputs": [],
   "source": [
    "def parse_input():\n",
    "    with open(\"Day5.txt\", \"r\") as file:\n",
    "        input_data = file.read()\n",
    "\n",
    "    left, instructions_str = input_data.split(\"\\n\\n\")\n",
    "    stacks_str, platforms = left.rsplit('\\n', 1)\n",
    "\n",
    "    # parse crates\n",
    "    num_stacks = int(platforms.split()[-1])\n",
    "    stacks = [[] for _ in range(num_stacks)]\n",
    "\n",
    "    for line in reversed(stacks_str.splitlines()):\n",
    "        chunks = [line[i:i+4] for i in range(0, len(line), 4)]\n",
    "        for idx, chunk in enumerate(chunks):\n",
    "            second = chunk[1]\n",
    "            if second.isalpha():\n",
    "                stacks[idx].append(second)\n",
    "\n",
    "    # parse instructions\n",
    "    instructions = []\n",
    "    for line in instructions_str.splitlines():\n",
    "        rest = line.removeprefix(\"move \")\n",
    "        amount, rest = rest.split(\" from \")\n",
    "        from_, to = rest.split(\" to \")\n",
    "        instruction = {\"amount\": int(amount),\n",
    "                       \"from\": int(from_) - 1,\n",
    "                       \"to\": int(to) - 1}\n",
    "        instructions.append(instruction)\n",
    "\n",
    "    return stacks, instructions\n"
   ]
  },
  {
   "cell_type": "code",
   "execution_count": 27,
   "id": "f8ca61b0-6575-4fe3-bec0-838eff1f049d",
   "metadata": {},
   "outputs": [
    {
     "name": "stdout",
     "output_type": "stream",
     "text": [
      "PTWLTDSJV\n"
     ]
    }
   ],
   "source": [
    "def part_1():\n",
    "    stacks, instructions = parse_input()\n",
    "    for instruction in instructions:\n",
    "        amount = instruction['amount']\n",
    "        from_stack = instruction['from']\n",
    "        to_stack = instruction['to']\n",
    "        for _ in range(amount):\n",
    "            if stacks[from_stack]:\n",
    "                removed = stacks[from_stack].pop()\n",
    "                stacks[to_stack].append(removed)\n",
    "    \n",
    "    return ''.join(stack[-1] for stack in stacks if stack)\n",
    "\n",
    "output = part_1()\n",
    "print(output)\n",
    "\n",
    "\n"
   ]
  },
  {
   "cell_type": "code",
   "execution_count": 28,
   "id": "18cfbb62-5dd7-4935-815a-672e87c98610",
   "metadata": {},
   "outputs": [
    {
     "name": "stdout",
     "output_type": "stream",
     "text": [
      "PTWLTDSJV\n"
     ]
    }
   ],
   "source": [
    "output = part_1()\n",
    "print(output)\n"
   ]
  },
  {
   "cell_type": "code",
   "execution_count": 29,
   "id": "a7c9b9a2-7b55-4e48-86d6-366bd673660f",
   "metadata": {},
   "outputs": [
    {
     "name": "stdout",
     "output_type": "stream",
     "text": [
      "WZMFVGGZP\n"
     ]
    }
   ],
   "source": [
    "def part_2():\n",
    "    stacks, instructions = parse_input()\n",
    "    for instruction in instructions:\n",
    "        amount = instruction['amount']\n",
    "        from_stack = instruction['from']\n",
    "        to_stack = instruction['to']\n",
    "        from_stack_len = len(stacks[from_stack])\n",
    "        removed = stacks[from_stack][from_stack_len - amount:]\n",
    "        stacks[from_stack] = stacks[from_stack][:from_stack_len - amount]\n",
    "        stacks[to_stack].extend(removed)\n",
    "\n",
    "    return ''.join(stack[-1] for stack in stacks if stack)\n",
    "\n",
    "output = part_2()\n",
    "print(output)\n"
   ]
  },
  {
   "cell_type": "code",
   "execution_count": null,
   "id": "340553d7-8961-4cc5-b84d-19e4ecac5ee5",
   "metadata": {},
   "outputs": [],
   "source": []
  }
 ],
 "metadata": {
  "kernelspec": {
   "display_name": "Python 3 (ipykernel)",
   "language": "python",
   "name": "python3"
  },
  "language_info": {
   "codemirror_mode": {
    "name": "ipython",
    "version": 3
   },
   "file_extension": ".py",
   "mimetype": "text/x-python",
   "name": "python",
   "nbconvert_exporter": "python",
   "pygments_lexer": "ipython3",
   "version": "3.10.9"
  }
 },
 "nbformat": 4,
 "nbformat_minor": 5
}
