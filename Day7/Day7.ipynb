{
 "cells": [
  {
   "cell_type": "code",
   "execution_count": 1,
   "id": "3b5b589d-fb55-4bda-b189-bc6414c8f47d",
   "metadata": {},
   "outputs": [
    {
     "name": "stdout",
     "output_type": "stream",
     "text": [
      "1555642\n"
     ]
    }
   ],
   "source": [
    "import re\n",
    "from collections import defaultdict\n",
    "\n",
    "def parse_input(input_lines):\n",
    "    filesystem = defaultdict(lambda: {\"type\": None, \"parent\": None, \"children\": {}, \"size\": 0})\n",
    "    cmd_regex = re.compile(r'\\$(?:\\s(cd|ls))?(?:\\s(.*))?')\n",
    "    ls_response_regex = re.compile(r'(\\d+|\\bdir\\b)\\s+(\\w+)')\n",
    "    current_dir = \"/\"\n",
    "    filesystem[current_dir][\"type\"] = \"dir\"\n",
    "\n",
    "    for line in input_lines:\n",
    "        cmd_match = cmd_regex.match(line)\n",
    "        if cmd_match:\n",
    "            cmd, arg = cmd_match.groups()\n",
    "            if cmd == \"cd\":\n",
    "                if arg == \"..\":\n",
    "                    current_dir = filesystem[current_dir][\"parent\"]\n",
    "                elif arg == \"/\":\n",
    "                    current_dir = \"/\"\n",
    "                else:\n",
    "                    current_dir += \"/\" + arg\n",
    "        else:\n",
    "            file_type, name = ls_response_regex.match(line).groups()\n",
    "            path = current_dir + \"/\" + name\n",
    "            if file_type == \"dir\":\n",
    "                filesystem[path][\"type\"] = \"dir\"\n",
    "                filesystem[path][\"parent\"] = current_dir\n",
    "                filesystem[current_dir][\"children\"][path] = filesystem[path]\n",
    "            else:\n",
    "                filesystem[path][\"type\"] = \"file\"\n",
    "                filesystem[path][\"size\"] = int(file_type)\n",
    "                filesystem[current_dir][\"children\"][path] = filesystem[path]\n",
    "    return filesystem\n",
    "\n",
    "def calculate_sizes(filesystem, path):\n",
    "    if filesystem[path][\"type\"] == \"file\":\n",
    "        return filesystem[path][\"size\"]\n",
    "    total_size = 0\n",
    "    for child_path, child in filesystem[path][\"children\"].items():\n",
    "        child_size = calculate_sizes(filesystem, child_path)\n",
    "        total_size += child_size\n",
    "    filesystem[path][\"size\"] = total_size\n",
    "    return total_size\n",
    "\n",
    "def solve(input_lines):\n",
    "    filesystem = parse_input(input_lines)\n",
    "    calculate_sizes(filesystem, \"/\")\n",
    "    small_dirs = [dir for dir in filesystem.values() if dir[\"type\"] == \"dir\" and dir[\"size\"] <= 100000]\n",
    "    total_size = sum(dir[\"size\"] for dir in small_dirs)\n",
    "    return total_size\n",
    "\n",
    "def main():\n",
    "    with open('Day7.txt', 'r') as file:\n",
    "        input_lines = file.read().splitlines()\n",
    "    print(solve(input_lines))\n",
    "\n",
    "if __name__ == \"__main__\":\n",
    "    main()\n"
   ]
  },
  {
   "cell_type": "code",
   "execution_count": 2,
   "id": "ddbaf269-8d73-4d9b-bb8d-78b0357cf07a",
   "metadata": {},
   "outputs": [
    {
     "name": "stdout",
     "output_type": "stream",
     "text": [
      "5974547\n"
     ]
    }
   ],
   "source": [
    "def solve_part_two(input_lines):\n",
    "    filesystem = parse_input(input_lines)\n",
    "    calculate_sizes(filesystem, \"/\")\n",
    "    \n",
    "    total_disk_space = 70000000\n",
    "    used_space = filesystem[\"/\"][\"size\"]\n",
    "    unused_space = total_disk_space - used_space\n",
    "    required_space = 30000000\n",
    "\n",
    "    # The amount of additional space required to reach the required_space\n",
    "    additional_required_space = required_space - unused_space\n",
    "\n",
    "    # Only consider directories big enough to meet the additional space requirements\n",
    "    big_enough_dirs = [dir for dir in filesystem.values() if dir[\"type\"] == \"dir\" and dir[\"size\"] >= additional_required_space]\n",
    "\n",
    "    # Find the smallest among the big enough directories\n",
    "    smallest_dir = min(big_enough_dirs, key=lambda dir: dir[\"size\"])\n",
    "\n",
    "    return smallest_dir[\"size\"]\n",
    "\n",
    "def main():\n",
    "    with open('Day7.txt', 'r') as file:\n",
    "        input_lines = file.read().splitlines()\n",
    "    print(solve_part_two(input_lines))\n",
    "\n",
    "if __name__ == \"__main__\":\n",
    "    main()\n"
   ]
  },
  {
   "cell_type": "code",
   "execution_count": null,
   "id": "48ed250d-b46d-4077-8888-ab306d04e724",
   "metadata": {},
   "outputs": [],
   "source": []
  }
 ],
 "metadata": {
  "kernelspec": {
   "display_name": "Python 3 (ipykernel)",
   "language": "python",
   "name": "python3"
  },
  "language_info": {
   "codemirror_mode": {
    "name": "ipython",
    "version": 3
   },
   "file_extension": ".py",
   "mimetype": "text/x-python",
   "name": "python",
   "nbconvert_exporter": "python",
   "pygments_lexer": "ipython3",
   "version": "3.10.9"
  }
 },
 "nbformat": 4,
 "nbformat_minor": 5
}
