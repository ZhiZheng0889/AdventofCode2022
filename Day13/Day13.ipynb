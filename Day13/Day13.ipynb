{
 "cells": [
  {
   "cell_type": "code",
   "execution_count": 7,
   "id": "e7ae692a-908a-4310-b790-22e6fb7b7796",
   "metadata": {},
   "outputs": [
    {
     "name": "stdout",
     "output_type": "stream",
     "text": [
      "6478\n"
     ]
    }
   ],
   "source": [
    "# Code for Part 1\n",
    "\n",
    "import ast\n",
    "from functools import cmp_to_key\n",
    "from itertools import zip_longest\n",
    "\n",
    "def process_input(raw_input: str) -> list:\n",
    "    processed_input = []\n",
    "    for packet in raw_input.strip().split(\"\\n\\n\"):\n",
    "        processed_pair = list(map(ast.literal_eval, packet.split(\"\\n\")))\n",
    "        processed_input.append(processed_pair)\n",
    "\n",
    "    return processed_input\n",
    "\n",
    "def compare(left, right):\n",
    "    if left is None:\n",
    "        return -1\n",
    "    if right is None:\n",
    "        return 1\n",
    "\n",
    "    if isinstance(left, int) and isinstance(right, int):\n",
    "        if left < right:\n",
    "            return -1\n",
    "        if left > right:\n",
    "            return 1\n",
    "        return\n",
    "    elif isinstance(left, list) and isinstance(right, list):\n",
    "        for new_left, new_right in zip_longest(left, right):\n",
    "            if (result := compare(new_left, new_right)) is not None:\n",
    "                return result\n",
    "        return\n",
    "    else:\n",
    "        new_left = [left] if isinstance(left, int) else left\n",
    "        new_right = [right] if isinstance(right, int) else right\n",
    "        return compare(new_left, new_right)\n",
    "\n",
    "def part_1(packets):\n",
    "    results = [compare(*packet) for packet in packets]\n",
    "    true_indices = [index + 1 for index, item in enumerate(results) if item == -1]\n",
    "    return sum(true_indices)\n",
    "\n",
    "if __name__ == \"__main__\":\n",
    "    with open(\"Day13.txt\", \"r\", encoding=\"utf-8\") as puzzle_input:\n",
    "        raw_input = puzzle_input.read()\n",
    "\n",
    "    packets = process_input(raw_input)\n",
    "\n",
    "    part_1_ans = part_1(packets)\n",
    "    print(part_1_ans)\n"
   ]
  },
  {
   "cell_type": "code",
   "execution_count": 8,
   "id": "f13d18d0-8524-4e51-a444-b6e5a11e3909",
   "metadata": {},
   "outputs": [
    {
     "name": "stdout",
     "output_type": "stream",
     "text": [
      "21922\n"
     ]
    }
   ],
   "source": [
    "import ast\n",
    "from functools import cmp_to_key\n",
    "from itertools import zip_longest\n",
    "\n",
    "\n",
    "def process_input(raw_input: str) -> list:\n",
    "    processed_input = []\n",
    "    for packet in raw_input.strip().split(\"\\n\\n\"):\n",
    "        processed_pair = list(map(ast.literal_eval, packet.split(\"\\n\")))\n",
    "        processed_input.append(processed_pair)\n",
    "\n",
    "    return processed_input\n",
    "\n",
    "\n",
    "def compare(left, right):\n",
    "    if left is None:\n",
    "        return -1\n",
    "    if right is None:\n",
    "        return 1\n",
    "\n",
    "    if isinstance(left, int) and isinstance(right, int):\n",
    "        if left < right:\n",
    "            return -1\n",
    "        if left > right:\n",
    "            return 1\n",
    "        return\n",
    "    elif isinstance(left, list) and isinstance(right, list):\n",
    "        for new_left, new_right in zip_longest(left, right):\n",
    "            if (result := compare(new_left, new_right)) is not None:\n",
    "                return result\n",
    "        return\n",
    "    else:\n",
    "        new_left = [left] if isinstance(left, int) else left\n",
    "        new_right = [right] if isinstance(right, int) else right\n",
    "        return compare(new_left, new_right)\n",
    "\n",
    "\n",
    "def part_2(packets):\n",
    "    div1, div2 = [[2]], [[6]]\n",
    "    flat_list = [item for sublist in packets for item in sublist]\n",
    "    sorted_packets = sorted([*flat_list, div1, div2], key=cmp_to_key(compare))\n",
    "    return (sorted_packets.index(div1) + 1) * (sorted_packets.index(div2) + 1)\n",
    "\n",
    "\n",
    "if __name__ == \"__main__\":\n",
    "    with open(\"Day13.txt\", \"r\", encoding=\"utf-8\") as puzzle_input:\n",
    "        raw_input = puzzle_input.read()\n",
    "\n",
    "    packets = process_input(raw_input)\n",
    "\n",
    "    part_2_ans = part_2(packets)\n",
    "    print(part_2_ans)\n"
   ]
  },
  {
   "cell_type": "code",
   "execution_count": null,
   "id": "8fad90fd-6792-4038-a4f3-148f54003a29",
   "metadata": {},
   "outputs": [],
   "source": []
  }
 ],
 "metadata": {
  "kernelspec": {
   "display_name": "Python 3 (ipykernel)",
   "language": "python",
   "name": "python3"
  },
  "language_info": {
   "codemirror_mode": {
    "name": "ipython",
    "version": 3
   },
   "file_extension": ".py",
   "mimetype": "text/x-python",
   "name": "python",
   "nbconvert_exporter": "python",
   "pygments_lexer": "ipython3",
   "version": "3.10.9"
  }
 },
 "nbformat": 4,
 "nbformat_minor": 5
}
