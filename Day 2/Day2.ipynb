{
 "cells": [
  {
   "cell_type": "code",
   "execution_count": 5,
   "id": "f6da240d-9a42-4dbe-b966-e7f3ebb209b8",
   "metadata": {},
   "outputs": [],
   "source": [
    "def calculate_score_from_file(filename):\n",
    "    # Define the mapping\n",
    "    opponent_map = {'A': 'X', 'B': 'Y', 'C': 'Z'}  # What opponent plays\n",
    "    player_map = {'X': 'A', 'Y': 'B', 'Z': 'C'}  # What player plays\n",
    "    score_map = {'A': 1, 'B': 2, 'C': 3}  # Score of each choice\n",
    "\n",
    "    # Initialize total score\n",
    "    total_score = 0\n",
    "\n",
    "    # Open and read the file line by line\n",
    "    with open(filename, 'r') as file:\n",
    "        for line in file:\n",
    "            opponent_choice, player_choice = line.strip().split()\n",
    "\n",
    "            # Calculate the score for the shape chosen by the player\n",
    "            shape_score = score_map[player_map[player_choice]]\n",
    "\n",
    "            # Calculate the outcome score\n",
    "            if opponent_choice == player_map[player_choice]:\n",
    "                outcome_score = 3  # It's a draw\n",
    "            elif (opponent_choice == 'A' and player_map[player_choice] == 'B') or \\\n",
    "                (opponent_choice == 'B' and player_map[player_choice] == 'C') or \\\n",
    "                (opponent_choice == 'C' and player_map[player_choice] == 'A'):\n",
    "                outcome_score = 6  # Player wins\n",
    "            else:\n",
    "                outcome_score = 0  # Player loses\n",
    "\n",
    "            # Add the round's score to the total score\n",
    "            total_score += shape_score + outcome_score\n",
    "\n",
    "    return total_score\n",
    "\n"
   ]
  },
  {
   "cell_type": "code",
   "execution_count": 6,
   "id": "89169681-07e6-4c94-aa7b-4c7af93df17d",
   "metadata": {},
   "outputs": [
    {
     "name": "stdout",
     "output_type": "stream",
     "text": [
      "11386\n"
     ]
    }
   ],
   "source": [
    "print(calculate_score_from_file('Day2P1.txt'))"
   ]
  },
  {
   "cell_type": "code",
   "execution_count": 38,
   "id": "b638ea6a-de8c-4f9b-8c33-4a5b521546bf",
   "metadata": {},
   "outputs": [
    {
     "name": "stdout",
     "output_type": "stream",
     "text": [
      "13600\n"
     ]
    }
   ],
   "source": [
    "# Map for input characters to actual words\n",
    "map_input = {'A': 'Rock', 'B': 'Paper', 'C': 'Scissors', 'X': 'Lose', 'Y': 'Draw', 'Z': 'Win'}\n",
    "\n",
    "# Points per chosen shape\n",
    "points_per_shape = {'Rock': 1, 'Paper': 2, 'Scissors': 3}\n",
    "\n",
    "# Points per round outcome\n",
    "points_per_outcome = {'Lose': 0, 'Draw': 3, 'Win': 6}\n",
    "\n",
    "def points_per_round2(round_string):\n",
    "    opponent_shape = map_input[round_string[0]]\n",
    "    our_goal = map_input[round_string[2]]  # Note the index change here from 1 to 2\n",
    "\n",
    "    if (opponent_shape, our_goal) in [('Rock', 'Draw'), ('Paper', 'Lose'), ('Scissors', 'Win')]:\n",
    "        return points_per_outcome[our_goal] + points_per_shape['Rock']\n",
    "    elif (opponent_shape, our_goal) in [('Rock', 'Win'), ('Paper', 'Draw'), ('Scissors', 'Lose')]:\n",
    "        return points_per_outcome[our_goal] + points_per_shape['Paper']\n",
    "    else:\n",
    "        return points_per_outcome[our_goal] + points_per_shape['Scissors']\n",
    "\n",
    "def calculate_total_score_v2(filename):\n",
    "    total_score = 0\n",
    "\n",
    "    with open(filename, 'r') as file:\n",
    "        for line in file:\n",
    "            round_string = line.strip()\n",
    "            total_score += points_per_round2(round_string)\n",
    "\n",
    "    return total_score\n",
    "\n",
    "# Replace 'Day2P1.txt' with your actual file name\n",
    "print(calculate_total_score_v2('Day2P1.txt'))\n"
   ]
  },
  {
   "cell_type": "code",
   "execution_count": null,
   "id": "e0441520-3e18-4742-9a3c-ccdf3275a32c",
   "metadata": {},
   "outputs": [],
   "source": []
  }
 ],
 "metadata": {
  "kernelspec": {
   "display_name": "Python 3 (ipykernel)",
   "language": "python",
   "name": "python3"
  },
  "language_info": {
   "codemirror_mode": {
    "name": "ipython",
    "version": 3
   },
   "file_extension": ".py",
   "mimetype": "text/x-python",
   "name": "python",
   "nbconvert_exporter": "python",
   "pygments_lexer": "ipython3",
   "version": "3.10.9"
  }
 },
 "nbformat": 4,
 "nbformat_minor": 5
}
